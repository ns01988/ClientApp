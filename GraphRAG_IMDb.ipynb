{
  "metadata": {
    "kernelspec": {
      "language": "python",
      "display_name": "Python 3",
      "name": "python3"
    },
    "language_info": {
      "name": "python",
      "version": "3.10.14",
      "mimetype": "text/x-python",
      "codemirror_mode": {
        "name": "ipython",
        "version": 3
      },
      "pygments_lexer": "ipython3",
      "nbconvert_exporter": "python",
      "file_extension": ".py"
    },
    "kaggle": {
      "accelerator": "none",
      "dataSources": [
        {
          "sourceId": 1898721,
          "sourceType": "datasetVersion",
          "datasetId": 1131493
        }
      ],
      "dockerImageVersionId": 30786,
      "isInternetEnabled": true,
      "language": "python",
      "sourceType": "notebook",
      "isGpuEnabled": false
    },
    "colab": {
      "name": "GraphRAG IMDb",
      "provenance": [],
      "include_colab_link": true
    }
  },
  "nbformat_minor": 0,
  "nbformat": 4,
  "cells": [
    {
      "cell_type": "markdown",
      "metadata": {
        "id": "view-in-github",
        "colab_type": "text"
      },
      "source": [
        "<a href=\"https://colab.research.google.com/github/ns01988/ClientApp/blob/master/GraphRAG_IMDb.ipynb\" target=\"_parent\"><img src=\"https://colab.research.google.com/assets/colab-badge.svg\" alt=\"Open In Colab\"/></a>"
      ]
    },
    {
      "source": [
        "# IMPORTANT: RUN THIS CELL IN ORDER TO IMPORT YOUR KAGGLE DATA SOURCES,\n",
        "# THEN FEEL FREE TO DELETE THIS CELL.\n",
        "# NOTE: THIS NOTEBOOK ENVIRONMENT DIFFERS FROM KAGGLE'S PYTHON\n",
        "# ENVIRONMENT SO THERE MAY BE MISSING LIBRARIES USED BY YOUR\n",
        "# NOTEBOOK.\n",
        "import kagglehub\n",
        "harshitshankhdhar_imdb_dataset_of_top_1000_movies_and_tv_shows_path = kagglehub.dataset_download('harshitshankhdhar/imdb-dataset-of-top-1000-movies-and-tv-shows')\n",
        "\n",
        "print('Data source import complete.')\n"
      ],
      "metadata": {
        "id": "jUXbY11rKaRN",
        "outputId": "1dea1dde-3fe0-4704-aac0-c28a8e44fbef",
        "colab": {
          "base_uri": "https://localhost:8080/"
        }
      },
      "cell_type": "code",
      "outputs": [
        {
          "output_type": "stream",
          "name": "stdout",
          "text": [
            "Warning: Looks like you're using an outdated `kagglehub` version (installed: 0.3.6), please consider upgrading to the latest version (0.3.7).\n",
            "Downloading from https://www.kaggle.com/api/v1/datasets/download/harshitshankhdhar/imdb-dataset-of-top-1000-movies-and-tv-shows?dataset_version_number=1...\n"
          ]
        },
        {
          "output_type": "stream",
          "name": "stderr",
          "text": [
            "100%|██████████| 175k/175k [00:00<00:00, 30.0MB/s]"
          ]
        },
        {
          "output_type": "stream",
          "name": "stdout",
          "text": [
            "Extracting files...\n",
            "Data source import complete.\n"
          ]
        },
        {
          "output_type": "stream",
          "name": "stderr",
          "text": [
            "\n"
          ]
        }
      ],
      "execution_count": 1
    },
    {
      "cell_type": "code",
      "source": [
        "!pip install neo4j transformers openai langchain langchain_community -q"
      ],
      "metadata": {
        "execution": {
          "iopub.status.busy": "2024-12-08T01:08:22.566956Z",
          "iopub.execute_input": "2024-12-08T01:08:22.567534Z",
          "iopub.status.idle": "2024-12-08T01:08:42.517382Z",
          "shell.execute_reply.started": "2024-12-08T01:08:22.567477Z",
          "shell.execute_reply": "2024-12-08T01:08:42.516094Z"
        },
        "trusted": true,
        "id": "KswpWEdXKaRO"
      },
      "outputs": [],
      "execution_count": null
    },
    {
      "cell_type": "code",
      "source": [
        "import pandas as pd\n",
        "import numpy as np\n",
        "from neo4j import GraphDatabase\n",
        "from transformers import BertTokenizer, BertModel\n",
        "from langchain_community.graphs import Neo4jGraph\n",
        "from langchain_community.graphs.graph_document import GraphDocument,Node,Relationship\n",
        "from langchain_core.documents import Document"
      ],
      "metadata": {
        "execution": {
          "iopub.status.busy": "2024-12-08T01:17:52.25014Z",
          "iopub.execute_input": "2024-12-08T01:17:52.250595Z",
          "iopub.status.idle": "2024-12-08T01:17:52.256868Z",
          "shell.execute_reply.started": "2024-12-08T01:17:52.250558Z",
          "shell.execute_reply": "2024-12-08T01:17:52.255696Z"
        },
        "trusted": true,
        "id": "13_kt5wcKaRP"
      },
      "outputs": [],
      "execution_count": null
    },
    {
      "cell_type": "code",
      "source": [
        "movies_ds = pd.read_csv(\"/kaggle/input/imdb-dataset-of-top-1000-movies-and-tv-shows/imdb_top_1000.csv\")\n",
        "movies_ds.head()"
      ],
      "metadata": {
        "execution": {
          "iopub.status.busy": "2024-12-08T01:08:50.020888Z",
          "iopub.execute_input": "2024-12-08T01:08:50.021814Z",
          "iopub.status.idle": "2024-12-08T01:08:50.09615Z",
          "shell.execute_reply.started": "2024-12-08T01:08:50.021738Z",
          "shell.execute_reply": "2024-12-08T01:08:50.094709Z"
        },
        "trusted": true,
        "id": "mbkXO278KaRP"
      },
      "outputs": [],
      "execution_count": null
    },
    {
      "cell_type": "markdown",
      "source": [
        "### Extract all the genres"
      ],
      "metadata": {
        "id": "TkzN6P6LKaRQ"
      }
    },
    {
      "cell_type": "code",
      "source": [
        "len(movies_ds)"
      ],
      "metadata": {
        "trusted": true,
        "execution": {
          "iopub.status.busy": "2024-12-08T01:08:50.099644Z",
          "iopub.execute_input": "2024-12-08T01:08:50.100106Z",
          "iopub.status.idle": "2024-12-08T01:08:50.108088Z",
          "shell.execute_reply.started": "2024-12-08T01:08:50.10007Z",
          "shell.execute_reply": "2024-12-08T01:08:50.106738Z"
        },
        "id": "FNoOusIYKaRR"
      },
      "outputs": [],
      "execution_count": null
    },
    {
      "cell_type": "code",
      "source": [
        "all_genres = set()\n",
        "for genre_list in movies_ds[\"Genre\"]:\n",
        "    for e in genre_list.split(\",\"):\n",
        "        all_genres.add(e.strip())"
      ],
      "metadata": {
        "execution": {
          "iopub.status.busy": "2024-12-08T01:08:50.109939Z",
          "iopub.execute_input": "2024-12-08T01:08:50.110454Z",
          "iopub.status.idle": "2024-12-08T01:08:50.120174Z",
          "shell.execute_reply.started": "2024-12-08T01:08:50.110404Z",
          "shell.execute_reply": "2024-12-08T01:08:50.119029Z"
        },
        "trusted": true,
        "id": "4HbTWEsRKaRS"
      },
      "outputs": [],
      "execution_count": null
    },
    {
      "cell_type": "code",
      "source": [
        "all_genres"
      ],
      "metadata": {
        "execution": {
          "iopub.status.busy": "2024-12-08T01:08:50.122001Z",
          "iopub.execute_input": "2024-12-08T01:08:50.123082Z",
          "iopub.status.idle": "2024-12-08T01:08:50.140309Z",
          "shell.execute_reply.started": "2024-12-08T01:08:50.123024Z",
          "shell.execute_reply": "2024-12-08T01:08:50.138882Z"
        },
        "trusted": true,
        "id": "OoROgpMgKaRT"
      },
      "outputs": [],
      "execution_count": null
    },
    {
      "cell_type": "markdown",
      "source": [
        "## Embeddings models OPEN SOURCE\n",
        "Existen varios modelos de *embedding* gratuitos que son ampliamente utilizados y reconocidos por su rendimiento en tareas de procesamiento de lenguaje natural (NLP). Aquí tienes una lista de modelos recomendados:\n",
        "\n",
        "### 1. **Word2Vec**\n",
        "   - **Descripción**: Modelo de *embedding* creado por Google que transforma palabras en vectores numéricos basados en su contexto en grandes corpus de texto.\n",
        "   - **Fuente**: [Google Word2Vec pre-trained model](https://code.google.com/archive/p/word2vec/).\n",
        "   - **Ventajas**: Buena representación semántica y sintáctica de palabras.\n",
        "   - **Desventajas**: No maneja palabras fuera de vocabulario (*out-of-vocabulary*).\n",
        "\n",
        "### 2. **GloVe (Global Vectors for Word Representation)**\n",
        "   - **Descripción**: Desarrollado por Stanford, es un modelo que combina enfoques basados en coocurrencias para generar *embeddings* de palabras.\n",
        "   - **Fuente**: [GloVe pre-trained vectors](https://nlp.stanford.edu/projects/glove/).\n",
        "   - **Ventajas**: Buen balance entre representaciones locales y globales.\n",
        "   - **Desventajas**: No maneja palabras fuera de vocabulario.\n",
        "\n",
        "### 3. **FastText**\n",
        "   - **Descripción**: Desarrollado por Facebook, es una extensión de Word2Vec que maneja palabras fuera de vocabulario al dividir palabras en sub-palabras.\n",
        "   - **Fuente**: [FastText pre-trained models](https://fasttext.cc/docs/en/crawl-vectors.html).\n",
        "   - **Ventajas**: Capaz de manejar palabras desconocidas gracias a la representación por sub-palabras.\n",
        "   - **Desventajas**: Mayor tamaño en los modelos preentrenados.\n",
        "\n",
        "### 4. **Transformer-based Embeddings (BERT y derivados)**\n",
        "   - **Descripción**: BERT (Bidirectional Encoder Representations from Transformers) y otros modelos basados en Transformers como DistilBERT, RoBERTa, y ALBERT son más avanzados y consideran el contexto de las palabras bidireccionalmente.\n",
        "   - **Fuente**: [Hugging Face Model Hub](https://huggingface.co/models).\n",
        "   - **Ventajas**: Capturan mejor el contexto y significado en oraciones completas.\n",
        "   - **Desventajas**: Mayor costo computacional comparado con Word2Vec o GloVe.\n",
        "\n",
        "### 5. **Sentence Transformers (Sentence-BERT)**\n",
        "   - **Descripción**: Modificación de BERT que permite obtener *embeddings* de frases y párrafos de forma eficiente.\n",
        "   - **Fuente**: [Sentence Transformers](https://www.sbert.net/).\n",
        "   - **Ventajas**: Muy útil para tareas de comparación de similitud entre oraciones y recuperación de información.\n",
        "   - **Desventajas**: Computacionalmente más intensivo que los modelos de solo palabras.\n",
        "\n",
        "### Comparación de Modelos\n",
        "\n",
        "| Modelo          | Contexto         | Manejo de OOV (*Out-of-Vocabulary*) | Nivel (Palabra/Frase) | Complejidad Computacional |\n",
        "|-----------------|------------------|-------------------------------------|-----------------------|----------------------------|\n",
        "| **Word2Vec**    | Local            | No                                  | Palabra               | Baja                       |\n",
        "| **GloVe**       | Global           | No                                  | Palabra               | Baja                       |\n",
        "| **FastText**    | Local con sub-palabras | Sí                             | Palabra               | Media                      |\n",
        "| **BERT**        | Bidireccional    | Sí (con manejo de contexto)         | Palabra/Frase         | Alta                       |\n",
        "| **Sentence-BERT** | Bidireccional  | Sí                                  | Frase/Párrafo         | Alta                       |\n",
        "\n",
        "### Recomendaciones\n",
        "- **Para aplicaciones ligeras o que necesitan resultados rápidos**: Word2Vec, GloVe o FastText son buenas opciones.\n",
        "- **Para aplicaciones que requieren alta precisión y comprensión contextual**: BERT, RoBERTa, o Sentence-BERT son más adecuados.\n",
        "- **Para comparar oraciones o realizar tareas de recuperación de información**: Sentence-BERT es una excelente opción."
      ],
      "metadata": {
        "id": "_HwIfr52KaRT"
      }
    },
    {
      "cell_type": "markdown",
      "source": [
        "## Encontrar un modelo de embedding"
      ],
      "metadata": {
        "id": "nUoCxgKRKaRU"
      }
    },
    {
      "cell_type": "markdown",
      "source": [
        "---\n",
        "### TAREA: Busca un tokenizador free\n",
        "---"
      ],
      "metadata": {
        "id": "ey6QVAYcKaRV"
      }
    },
    {
      "cell_type": "code",
      "source": [
        "def get_embedding(text: str, model: str = \"text-embedding-ada-002\"):\n",
        "    embedding_result = client_openai.embeddings.create(\n",
        "        model = model,\n",
        "        input = [text]\n",
        "    )\n",
        "    return embedding_result.data[0].embedding"
      ],
      "metadata": {
        "execution": {
          "iopub.status.busy": "2024-12-08T01:08:50.142263Z",
          "iopub.execute_input": "2024-12-08T01:08:50.142717Z",
          "iopub.status.idle": "2024-12-08T01:08:50.153701Z",
          "shell.execute_reply.started": "2024-12-08T01:08:50.142681Z",
          "shell.execute_reply": "2024-12-08T01:08:50.152241Z"
        },
        "trusted": true,
        "id": "S_IksCzPKaRV"
      },
      "outputs": [],
      "execution_count": null
    },
    {
      "cell_type": "markdown",
      "source": [
        "---"
      ],
      "metadata": {
        "id": "LcF3ZK8JKaRV"
      }
    },
    {
      "cell_type": "code",
      "source": [
        "# Tokenizar la entrada\n",
        "movie_name = movies_ds[\"Series_Title\"].iloc[1]\n",
        "input_text = movies_ds[\"Overview\"].iloc[1]\n",
        "movie_name, input_text"
      ],
      "metadata": {
        "execution": {
          "iopub.status.busy": "2024-12-08T01:08:50.155386Z",
          "iopub.execute_input": "2024-12-08T01:08:50.155865Z",
          "iopub.status.idle": "2024-12-08T01:08:50.170693Z",
          "shell.execute_reply.started": "2024-12-08T01:08:50.155815Z",
          "shell.execute_reply": "2024-12-08T01:08:50.169498Z"
        },
        "trusted": true,
        "id": "nTsiHc5FKaRW"
      },
      "outputs": [],
      "execution_count": null
    },
    {
      "cell_type": "markdown",
      "source": [
        "## Neo4j INSTANCE"
      ],
      "metadata": {
        "id": "i6kfYrj1KaRW"
      }
    },
    {
      "cell_type": "code",
      "source": [
        "neo4j_db = Neo4jGraph(\n",
        "            url = \"neo4j+s://01495cb4.databases.neo4j.io\",\n",
        "            username= \"neo4j\",\n",
        "            password = \"\"\n",
        "        )"
      ],
      "metadata": {
        "execution": {
          "iopub.status.busy": "2024-12-08T01:20:23.443647Z",
          "iopub.execute_input": "2024-12-08T01:20:23.444161Z",
          "iopub.status.idle": "2024-12-08T01:20:25.233823Z",
          "shell.execute_reply.started": "2024-12-08T01:20:23.44412Z",
          "shell.execute_reply": "2024-12-08T01:20:25.232378Z"
        },
        "trusted": true,
        "id": "MXokaKdJKaRW"
      },
      "outputs": [],
      "execution_count": null
    },
    {
      "cell_type": "markdown",
      "source": [
        "### Movies Nodes"
      ],
      "metadata": {
        "id": "RHqiqnx4KaRW"
      }
    },
    {
      "cell_type": "code",
      "source": [
        "nodes_ = [Node(id = movies_ds[\"Series_Title\"].iloc[it], type = \"Movie\",\n",
        "            properties = {\n",
        "                    \"sinopsis\": movies_ds[\"Overview\"].iloc[it],\n",
        "                    \"year\": movies_ds[\"Released_Year\"].iloc[it],\n",
        "                    \"duration\": movies_ds[\"Runtime\"].iloc[it]\n",
        "                 }) for it in range(movies_ds.shape[0])]"
      ],
      "metadata": {
        "trusted": true,
        "execution": {
          "iopub.status.busy": "2024-12-08T01:08:50.172085Z",
          "iopub.execute_input": "2024-12-08T01:08:50.172457Z",
          "iopub.status.idle": "2024-12-08T01:08:50.224008Z",
          "shell.execute_reply.started": "2024-12-08T01:08:50.172427Z",
          "shell.execute_reply": "2024-12-08T01:08:50.222678Z"
        },
        "id": "_XcWiRUtKaRX"
      },
      "outputs": [],
      "execution_count": null
    },
    {
      "cell_type": "code",
      "source": [
        "nodes_[:5]"
      ],
      "metadata": {
        "trusted": true,
        "execution": {
          "iopub.status.busy": "2024-12-08T01:09:52.862421Z",
          "iopub.execute_input": "2024-12-08T01:09:52.862848Z",
          "iopub.status.idle": "2024-12-08T01:09:52.871272Z",
          "shell.execute_reply.started": "2024-12-08T01:09:52.862806Z",
          "shell.execute_reply": "2024-12-08T01:09:52.869988Z"
        },
        "id": "LQpZku4WKaRX"
      },
      "outputs": [],
      "execution_count": null
    },
    {
      "cell_type": "code",
      "source": [
        "nodes = movies_ds.apply(\n",
        "    lambda row: Node(\n",
        "        id=row[\"Series_Title\"],\n",
        "        type=\"Movie\",\n",
        "        properties={\n",
        "            \"sinopsis\": row[\"Overview\"],\n",
        "            \"year\": row[\"Released_Year\"],\n",
        "            \"duration\": row[\"Runtime\"]\n",
        "        }\n",
        "    ), axis=1\n",
        ").tolist()"
      ],
      "metadata": {
        "trusted": true,
        "execution": {
          "iopub.status.busy": "2024-12-08T01:10:01.150002Z",
          "iopub.execute_input": "2024-12-08T01:10:01.150472Z",
          "iopub.status.idle": "2024-12-08T01:10:01.191974Z",
          "shell.execute_reply.started": "2024-12-08T01:10:01.150432Z",
          "shell.execute_reply": "2024-12-08T01:10:01.19082Z"
        },
        "id": "7EGtXCYSKaRX"
      },
      "outputs": [],
      "execution_count": null
    },
    {
      "cell_type": "code",
      "source": [
        "nodes[:5]"
      ],
      "metadata": {
        "trusted": true,
        "execution": {
          "iopub.status.busy": "2024-12-08T01:10:01.518918Z",
          "iopub.execute_input": "2024-12-08T01:10:01.519326Z",
          "iopub.status.idle": "2024-12-08T01:10:01.527558Z",
          "shell.execute_reply.started": "2024-12-08T01:10:01.519293Z",
          "shell.execute_reply": "2024-12-08T01:10:01.52623Z"
        },
        "id": "6qCEQiOwKaRX"
      },
      "outputs": [],
      "execution_count": null
    },
    {
      "cell_type": "markdown",
      "source": [
        "# Directors"
      ],
      "metadata": {
        "id": "AO4Xwc1aKaRY"
      }
    },
    {
      "cell_type": "code",
      "source": [
        "# Auxiliary data structures\n",
        "nodes_directors_aux = {}\n",
        "nodes_director = []\n",
        "director_movie_relationships = []"
      ],
      "metadata": {
        "trusted": true,
        "execution": {
          "iopub.status.busy": "2024-12-08T01:10:32.364222Z",
          "iopub.execute_input": "2024-12-08T01:10:32.364682Z",
          "iopub.status.idle": "2024-12-08T01:10:32.37049Z",
          "shell.execute_reply.started": "2024-12-08T01:10:32.364645Z",
          "shell.execute_reply": "2024-12-08T01:10:32.36936Z"
        },
        "id": "LR-CRBIgKaRY"
      },
      "outputs": [],
      "execution_count": null
    },
    {
      "cell_type": "code",
      "source": [
        "for row in movies_ds.itertuples():\n",
        "    director_name = row.Director\n",
        "    if director_name not in nodes_directors_aux:\n",
        "        director_node = Node(\n",
        "            id=director_name,\n",
        "            type=\"Director\",\n",
        "            properties={\"name\": director_name}\n",
        "        )\n",
        "        nodes_directors_aux[director_name] = director_node\n",
        "        nodes_director.append(director_node)\n",
        "    director_movie_relationships.append(\n",
        "        Relationship(\n",
        "            source= nodes[row.Index],\n",
        "            target= nodes_directors_aux[director_name], # Movie\n",
        "            type=\"DIRECTED_BY\",\n",
        "            properties={}\n",
        "        )\n",
        "    )"
      ],
      "metadata": {
        "trusted": true,
        "execution": {
          "iopub.status.busy": "2024-12-08T01:10:32.612054Z",
          "iopub.execute_input": "2024-12-08T01:10:32.612467Z",
          "iopub.status.idle": "2024-12-08T01:10:32.635392Z",
          "shell.execute_reply.started": "2024-12-08T01:10:32.612432Z",
          "shell.execute_reply": "2024-12-08T01:10:32.634071Z"
        },
        "id": "HHelB_0zKaRY"
      },
      "outputs": [],
      "execution_count": null
    },
    {
      "cell_type": "code",
      "source": [
        "nodes_director[:5]"
      ],
      "metadata": {
        "trusted": true,
        "execution": {
          "iopub.status.busy": "2024-12-08T01:10:32.943088Z",
          "iopub.execute_input": "2024-12-08T01:10:32.943472Z",
          "iopub.status.idle": "2024-12-08T01:10:32.951749Z",
          "shell.execute_reply.started": "2024-12-08T01:10:32.943443Z",
          "shell.execute_reply": "2024-12-08T01:10:32.950596Z"
        },
        "id": "gg97zv7QKaRY"
      },
      "outputs": [],
      "execution_count": null
    },
    {
      "cell_type": "code",
      "source": [
        "director_movie_relationships[:5]"
      ],
      "metadata": {
        "trusted": true,
        "execution": {
          "iopub.status.busy": "2024-12-08T01:10:33.255651Z",
          "iopub.execute_input": "2024-12-08T01:10:33.256895Z",
          "iopub.status.idle": "2024-12-08T01:10:33.264646Z",
          "shell.execute_reply.started": "2024-12-08T01:10:33.256843Z",
          "shell.execute_reply": "2024-12-08T01:10:33.263272Z"
        },
        "id": "hCFL47UvKaRZ"
      },
      "outputs": [],
      "execution_count": null
    },
    {
      "cell_type": "markdown",
      "source": [
        "# Actors"
      ],
      "metadata": {
        "id": "bOOMsj5oKaRZ"
      }
    },
    {
      "cell_type": "code",
      "source": [
        "actors_aux = {}\n",
        "actors_nodes = []\n",
        "actor_movie_relationships = []"
      ],
      "metadata": {
        "trusted": true,
        "execution": {
          "iopub.status.busy": "2024-12-08T01:10:33.894163Z",
          "iopub.execute_input": "2024-12-08T01:10:33.894599Z",
          "iopub.status.idle": "2024-12-08T01:10:33.900004Z",
          "shell.execute_reply.started": "2024-12-08T01:10:33.894563Z",
          "shell.execute_reply": "2024-12-08T01:10:33.89885Z"
        },
        "id": "YEAYpeZ3KaRZ"
      },
      "outputs": [],
      "execution_count": null
    },
    {
      "cell_type": "code",
      "source": [
        "for row in movies_ds.itertuples():\n",
        "    # Verifico y creo nodos para los actores de la película\n",
        "    for i in range(1, 5):  # Para Star1, Star2, Star3, Star4\n",
        "        actor_name = getattr(row, f\"Star{i}\")\n",
        "\n",
        "        if actor_name and actor_name not in actors_aux:\n",
        "            # Creo el nodo para el actor si no existe\n",
        "            actor_node = Node(\n",
        "                id=actor_name,\n",
        "                type=\"Actor\",\n",
        "                properties={\"name\": actor_name}\n",
        "            )\n",
        "\n",
        "            # Guardo el nodo en el diccionario y en la lista\n",
        "            actors_aux[actor_name] = actor_node\n",
        "            actors_nodes.append(actor_node)\n",
        "\n",
        "        # Creo una relación entre la película y el actor\n",
        "        if actor_name:  # Solo si hay un nombre de actor\n",
        "            actor_movie_relationships.append(\n",
        "                Relationship(\n",
        "                    source=nodes[row.Index],  # Nodo de la película\n",
        "                    target=actors_aux[actor_name],  # Nodo del actor\n",
        "                    type=\"ACTED_IN\",\n",
        "                    properties={}\n",
        "                )\n",
        "            )"
      ],
      "metadata": {
        "trusted": true,
        "execution": {
          "iopub.status.busy": "2024-12-08T01:10:34.228677Z",
          "iopub.execute_input": "2024-12-08T01:10:34.229181Z",
          "iopub.status.idle": "2024-12-08T01:10:34.278187Z",
          "shell.execute_reply.started": "2024-12-08T01:10:34.22914Z",
          "shell.execute_reply": "2024-12-08T01:10:34.27705Z"
        },
        "id": "LEVqFd5_KaRZ"
      },
      "outputs": [],
      "execution_count": null
    },
    {
      "cell_type": "code",
      "source": [
        "actors_nodes[:5]"
      ],
      "metadata": {
        "trusted": true,
        "execution": {
          "iopub.status.busy": "2024-12-08T01:10:34.592905Z",
          "iopub.execute_input": "2024-12-08T01:10:34.593679Z",
          "iopub.status.idle": "2024-12-08T01:10:34.600989Z",
          "shell.execute_reply.started": "2024-12-08T01:10:34.593635Z",
          "shell.execute_reply": "2024-12-08T01:10:34.599798Z"
        },
        "id": "5pSNHvO6KaRa"
      },
      "outputs": [],
      "execution_count": null
    },
    {
      "cell_type": "code",
      "source": [
        "actor_movie_relationships[:5]"
      ],
      "metadata": {
        "trusted": true,
        "execution": {
          "iopub.status.busy": "2024-12-08T01:10:35.038896Z",
          "iopub.execute_input": "2024-12-08T01:10:35.039378Z",
          "iopub.status.idle": "2024-12-08T01:10:35.047841Z",
          "shell.execute_reply.started": "2024-12-08T01:10:35.03934Z",
          "shell.execute_reply": "2024-12-08T01:10:35.04655Z"
        },
        "id": "mzoOWGPEKaRa"
      },
      "outputs": [],
      "execution_count": null
    },
    {
      "cell_type": "markdown",
      "source": [
        "## Create Graph Documents"
      ],
      "metadata": {
        "id": "xRzytiJ-KaRa"
      }
    },
    {
      "cell_type": "markdown",
      "source": [
        "### Nodes"
      ],
      "metadata": {
        "id": "pG8ioFUdKaRa"
      }
    },
    {
      "cell_type": "code",
      "source": [
        "nodes_movies_actors_directors = []\n",
        "nodes_movies_actors_directors.extend(nodes) # movies\n",
        "nodes_movies_actors_directors.extend(actors_nodes)\n",
        "nodes_movies_actors_directors.extend(nodes_director)\n",
        "len(nodes_movies_actors_directors)"
      ],
      "metadata": {
        "trusted": true,
        "execution": {
          "iopub.status.busy": "2024-12-08T01:14:05.336498Z",
          "iopub.execute_input": "2024-12-08T01:14:05.336962Z",
          "iopub.status.idle": "2024-12-08T01:14:05.345718Z",
          "shell.execute_reply.started": "2024-12-08T01:14:05.336928Z",
          "shell.execute_reply": "2024-12-08T01:14:05.344329Z"
        },
        "id": "cPSrAWs_KaRa"
      },
      "outputs": [],
      "execution_count": null
    },
    {
      "cell_type": "markdown",
      "source": [
        "### Relationships"
      ],
      "metadata": {
        "id": "sV8SMIu6KaRb"
      }
    },
    {
      "cell_type": "code",
      "source": [
        "relationships_movies_actors_directors = []\n",
        "relationships_movies_actors_directors.extend(director_movie_relationships)\n",
        "relationships_movies_actors_directors.extend(actor_movie_relationships)\n",
        "len(relationships_movies_actors_directors)"
      ],
      "metadata": {
        "trusted": true,
        "execution": {
          "iopub.status.busy": "2024-12-08T01:15:59.693893Z",
          "iopub.execute_input": "2024-12-08T01:15:59.694322Z",
          "iopub.status.idle": "2024-12-08T01:15:59.702325Z",
          "shell.execute_reply.started": "2024-12-08T01:15:59.694288Z",
          "shell.execute_reply": "2024-12-08T01:15:59.701057Z"
        },
        "id": "NfUukYqJKaRb"
      },
      "outputs": [],
      "execution_count": null
    },
    {
      "cell_type": "code",
      "source": [
        "doc = Document(page_content=\"hello world\")"
      ],
      "metadata": {
        "trusted": true,
        "execution": {
          "iopub.status.busy": "2024-12-08T01:18:27.52445Z",
          "iopub.execute_input": "2024-12-08T01:18:27.524968Z",
          "iopub.status.idle": "2024-12-08T01:18:27.530497Z",
          "shell.execute_reply.started": "2024-12-08T01:18:27.52493Z",
          "shell.execute_reply": "2024-12-08T01:18:27.529117Z"
        },
        "id": "baRJLW2vKaRb"
      },
      "outputs": [],
      "execution_count": null
    },
    {
      "cell_type": "code",
      "source": [
        "graph_doc = GraphDocument(\n",
        "    nodes = nodes_movies_actors_directors,\n",
        "    relationships = relationships_movies_actors_directors,\n",
        "    source = doc\n",
        ")"
      ],
      "metadata": {
        "trusted": true,
        "execution": {
          "iopub.status.busy": "2024-12-08T01:18:47.674495Z",
          "iopub.execute_input": "2024-12-08T01:18:47.675078Z",
          "iopub.status.idle": "2024-12-08T01:18:47.68113Z",
          "shell.execute_reply.started": "2024-12-08T01:18:47.675037Z",
          "shell.execute_reply": "2024-12-08T01:18:47.679866Z"
        },
        "id": "xdq-SCzCKaRb"
      },
      "outputs": [],
      "execution_count": null
    },
    {
      "cell_type": "code",
      "source": [
        "neo4j_db.add_graph_documents([graph_doc])"
      ],
      "metadata": {
        "trusted": true,
        "execution": {
          "iopub.status.busy": "2024-12-08T01:22:12.795693Z",
          "iopub.execute_input": "2024-12-08T01:22:12.796257Z",
          "iopub.status.idle": "2024-12-08T01:22:42.33951Z",
          "shell.execute_reply.started": "2024-12-08T01:22:12.79622Z",
          "shell.execute_reply": "2024-12-08T01:22:42.338172Z"
        },
        "id": "LCtfNnV9KaRb"
      },
      "outputs": [],
      "execution_count": null
    },
    {
      "cell_type": "code",
      "source": [
        "neo4j_db.refresh_schema()"
      ],
      "metadata": {
        "trusted": true,
        "execution": {
          "iopub.status.busy": "2024-12-08T01:22:42.341871Z",
          "iopub.execute_input": "2024-12-08T01:22:42.34239Z",
          "iopub.status.idle": "2024-12-08T01:22:44.725923Z",
          "shell.execute_reply.started": "2024-12-08T01:22:42.342339Z",
          "shell.execute_reply": "2024-12-08T01:22:44.724572Z"
        },
        "id": "znR29qC1KaRn"
      },
      "outputs": [],
      "execution_count": null
    },
    {
      "cell_type": "markdown",
      "source": [
        "## the END"
      ],
      "metadata": {
        "id": "wlwgKTF7KaRn"
      }
    }
  ]
}